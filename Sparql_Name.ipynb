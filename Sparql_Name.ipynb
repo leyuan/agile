{
 "cells": [
  {
   "cell_type": "code",
   "execution_count": 29,
   "metadata": {},
   "outputs": [],
   "source": [
    "from SPARQLWrapper import SPARQLWrapper, JSON"
   ]
  },
  {
   "cell_type": "code",
   "execution_count": 30,
   "metadata": {},
   "outputs": [],
   "source": [
    "sparql = SPARQLWrapper2(\"http://dbpedia.org/sparql\")"
   ]
  },
  {
   "cell_type": "code",
   "execution_count": 31,
   "metadata": {},
   "outputs": [
    {
     "name": "stdout",
     "output_type": "stream",
     "text": [
      "Totally there are 4146581 exist in the database\n"
     ]
    }
   ],
   "source": [
    "# Retrieve how many\n",
    "sparql.setQuery(\"\"\"\n",
    "    PREFIX foaf: <http://xmlns.com/foaf/0.1/>\n",
    "    SELECT (COUNT(?name) as ?count)\n",
    "    WHERE { ?person foaf:name ?name . }\n",
    "\"\"\")\n",
    "\n",
    "for result in sparql.query().bindings:\n",
    "    print('Totally there are %s exist in the database' % (result[\"count\"].value))"
   ]
  },
  {
   "cell_type": "code",
   "execution_count": 32,
   "metadata": {},
   "outputs": [
    {
     "name": "stdout",
     "output_type": "stream",
     "text": [
      "en: !\n",
      "en: !!!\n",
      "en: !!!\n",
      "en: !!Destroy-Oh-Boy!!\n",
      "en: !Action Pact!\n"
     ]
    }
   ],
   "source": [
    "# Take a preview\n",
    "sparql.setQuery(\"\"\"\n",
    "    PREFIX foaf: <http://xmlns.com/foaf/0.1/>\n",
    "    SELECT ?name\n",
    "    WHERE {\n",
    "        ?person foaf:name ?name .\n",
    "    }\n",
    "    ORDER BY ?name\n",
    "    LIMIT 5\n",
    "\"\"\")\n",
    "\n",
    "for result in sparql.query().bindings:\n",
    "    print('%s: %s' % (result[\"name\"].lang, result[\"name\"].value))"
   ]
  },
  {
   "cell_type": "code",
   "execution_count": 36,
   "metadata": {},
   "outputs": [
    {
     "name": "stdout",
     "output_type": "stream",
     "text": [
      "========================\n",
      "en: !\n",
      "en: !!!\n",
      "en: !!!\n",
      "en: !!Destroy-Oh-Boy!!\n",
      "en: !Action Pact!\n",
      "en: !Arriba! La Pachanga\n",
      "en: !HERO\n",
      "en: !Hero\n",
      "en: !Kung\n",
      "en: !Kwa/tse\n",
      "========================\n",
      "en: !Oka Tokat\n",
      "en: !PAUS3\n",
      "en: !T.O.O.H.!\n",
      "en: !Wanted\n",
      "en: !Women Art Revolution\n",
      "en: !llmind\n",
      "en: !ערוץ הופ\n",
      "en: \"\n",
      "en: \"\n",
      "en: \" Kelmės Kražantė\"\n",
      "========================\n",
      "en: \" Schneider\n",
      "en: \" The Sergeant\"\n",
      "en: \"\"Deraniyagala\"\" Divisional Secretariat\n",
      "en: \"\"Fliegender Teppich“\"(Flying carpet)\n",
      "en: \"'''Lois Kills Stewie\n",
      "en: \"'Ajde, kroči\"\n",
      "en: \"'Feuer\"\n",
      "en: \"'I Belong\"\n",
      "en: \"'Sevince\"\n",
      "en: \"'The Bad Old Days\"\n"
     ]
    }
   ],
   "source": [
    "# Limit and Offset\n",
    "\n",
    "for i in range(3):\n",
    "    print(\"========================\")\n",
    "    limit = 10\n",
    "    offset = i*limit\n",
    "    \n",
    "#     print(limit, offset)\n",
    "    \n",
    "    query = \"\"\"\n",
    "        PREFIX foaf: <http://xmlns.com/foaf/0.1/>\n",
    "        SELECT ?name\n",
    "        WHERE {\n",
    "            ?person foaf:name ?name .\n",
    "        }\n",
    "        ORDER BY ?name\n",
    "        LIMIT %s\n",
    "        OFFSET %s\n",
    "    \"\"\"\n",
    "\n",
    "    query = query % (limit, offset)\n",
    "    \n",
    "#     print(query)\n",
    "    \n",
    "    sparql.setQuery(query)\n",
    "    \n",
    "    for result in sparql.query().bindings:\n",
    "        print('%s: %s' % (result[\"name\"].lang, result[\"name\"].value))    "
   ]
  },
  {
   "cell_type": "code",
   "execution_count": 34,
   "metadata": {},
   "outputs": [
    {
     "name": "stdout",
     "output_type": "stream",
     "text": [
      "\n",
      "    PREFIX foaf: <http://xmlns.com/foaf/0.1/>\n",
      "    SELECT (count(?name) as ?count)\n",
      "    WHERE {\n",
      "       ?resource foaf:name ?name .\n",
      "       ?resource rdf:type schema:Person .\n",
      "       FILTER (\n",
      "          contains(lcase(str(?name)), \"peter\")\n",
      "       )\n",
      "    }\n",
      "\n",
      "========================\n",
      "peter => 9681\n"
     ]
    }
   ],
   "source": [
    "input_name = \"peter\"\n",
    "\n",
    "query = \"\"\"\n",
    "    PREFIX foaf: <http://xmlns.com/foaf/0.1/>\n",
    "    SELECT (count(?name) as ?count)\n",
    "    WHERE {\n",
    "       ?resource foaf:name ?name .\n",
    "       ?resource rdf:type schema:Person .\n",
    "       FILTER (\n",
    "          contains(lcase(str(?name)), \"%s\")\n",
    "       )\n",
    "    }\n",
    "\"\"\"\n",
    "\n",
    "query = query % input_name\n",
    "\n",
    "print(query)\n",
    "\n",
    "sparql.setQuery(query)\n",
    "\n",
    "for result in sparql.query().bindings:\n",
    "    print(\"========================\")\n",
    "    print('%s => %s' % (input_name, result[\"count\"].value))"
   ]
  },
  {
   "cell_type": "code",
   "execution_count": null,
   "metadata": {},
   "outputs": [],
   "source": []
  },
  {
   "cell_type": "code",
   "execution_count": null,
   "metadata": {},
   "outputs": [],
   "source": []
  },
  {
   "cell_type": "code",
   "execution_count": null,
   "metadata": {},
   "outputs": [],
   "source": []
  },
  {
   "cell_type": "code",
   "execution_count": null,
   "metadata": {},
   "outputs": [],
   "source": []
  },
  {
   "cell_type": "code",
   "execution_count": null,
   "metadata": {},
   "outputs": [],
   "source": []
  },
  {
   "cell_type": "markdown",
   "metadata": {},
   "source": [
    "## Some Hopefully Useful Queries\n",
    "\n",
    "#### This works but a bit slow\n",
    "\n",
    "``` sql\n",
    "SELECT ?resource ?name WHERE {\n",
    "    ?resource foaf:name ?name .\n",
    "    ?resource rdf:type schema:Person .\n",
    "    FILTER (\n",
    "      contains(lcase(str(?name)), \"peter\")\n",
    "    )\n",
    "}\n",
    "ORDER BY (?name)\n",
    "LIMIT 1\n",
    "\n",
    "    resource\tname\n",
    "    :Gio_Black_Peter [http]\t\"\"Gio Black Peter\"\"@en\n",
    "    :Peter_Michael_Chenaparampil [http]\t\"'''Peter Michael Chenaparampil\"@en\n",
    "    :Alroy_Peters [http]\t\"'Alroy Peters\"@en\n",
    "    :Bam_Bam_(radio_presenter) [http]\t\"'BAM BAM' (Peter Poulton)\"@en\n",
    "    :Péter_Czvitkovics [http]\t\"(Peter Cvitković)\"@en\n",
    "    :Mbiyu_Koinange [http]\t\"(Peter) Mbiyu Koinange\"@en\n",
    "    :A._Peter_Dewey [http]\t\"A. Peter Dewey\"@en\n",
    "    :Aage_Høy-Petersen [http]\t\"Aage Høy-Petersen\"@en\n",
    "    :Aaron_Dawson [http]\t\"Aaron Peter Dawson\"@en\n",
    "    :Aaron_Peterson [http]\t\"Aaron Peterson\"@en\n",
    "```"
   ]
  },
  {
   "cell_type": "markdown",
   "metadata": {},
   "source": [
    "\n",
    "#### Regex, emmm...\n",
    "\n",
    "``` sql\n",
    "SELECT ?resource ?title ?match strlen(str(?title)) as ?lenTitle strlen(str(?match)) as ?lenMatch\n",
    "\n",
    "WHERE {\n",
    "    ?resource foaf:name ?title .\n",
    "    ?resource rdf:type schema:Movie .\n",
    "    ?resource dbo:director ?director .\n",
    "    bind( replace(LCASE(CONCAT('x',?title)), \"^x(die)*(?:.*?(hard))*(?:.*?(with))*.*$\", \"$1$2$3\") as ?match ) \n",
    "}\n",
    "\n",
    "\n",
    "    resource\ttitle\tmatch\tlenTitle\tlenMatch\n",
    "    :Die_Hard_with_a_Vengeance [http]\t\"Die Hard with a Vengeance\"@en\t\"diehardwith\"\t25\t11\n",
    "    :Die_Hard [http]\t\"Die Hard\"@en\t\"diehard\"\t8\t7\n",
    "    :Die_Hard_2 [http]\t\"Die Hard 2\"@en\t\"diehard\"\t10\t7\n",
    "    :Lily_Festival [http]\t\"百合祭 (Yurisai)\"@en\t\"risai)\"\t13\t6\n",
    "    :Villa_Zone [http]\t\"Вилна зона\"@en\t\" зона\"\t10\t5\n",
    "\n",
    "```"
   ]
  },
  {
   "cell_type": "markdown",
   "metadata": {},
   "source": [
    "#### Count is also pretty handy\n",
    "\n",
    "```sql\n",
    "SELECT (count(?name) as ?count)\n",
    "WHERE {\n",
    "   ?resource foaf:name ?name .\n",
    "   ?resource rdf:type schema:Person .\n",
    "   FILTER (\n",
    "      contains(lcase(str(?name)), \"peter\")\n",
    "   )\n",
    "}\n",
    "```"
   ]
  },
  {
   "cell_type": "code",
   "execution_count": null,
   "metadata": {},
   "outputs": [],
   "source": []
  }
 ],
 "metadata": {
  "kernelspec": {
   "display_name": "Python 3",
   "language": "python",
   "name": "python3"
  },
  "language_info": {
   "codemirror_mode": {
    "name": "ipython",
    "version": 3
   },
   "file_extension": ".py",
   "mimetype": "text/x-python",
   "name": "python",
   "nbconvert_exporter": "python",
   "pygments_lexer": "ipython3",
   "version": "3.6.4"
  }
 },
 "nbformat": 4,
 "nbformat_minor": 2
}
