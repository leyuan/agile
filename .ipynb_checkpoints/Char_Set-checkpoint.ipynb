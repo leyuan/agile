{
 "cells": [
  {
   "cell_type": "code",
   "execution_count": 42,
   "metadata": {},
   "outputs": [
    {
     "name": "stdout",
     "output_type": "stream",
     "text": [
      "Language => EnTa\n",
      "Unique Chars => 62\n",
      "Language => ThEn\n",
      "Unique Chars => 41\n",
      "Language => EnTh\n",
      "Unique Chars => 67\n",
      "Language => ChEn\n",
      "Unique Chars => 30\n",
      "Language => EnKa\n",
      "Unique Chars => 77\n",
      "Language => EnHi\n",
      "Unique Chars => 82\n",
      "Language => PeEn\n",
      "Unique Chars => 28\n",
      "Language => EnBa\n",
      "Unique Chars => 64\n",
      "Language => HeEn\n",
      "Unique Chars => 33\n",
      "Language => EnCh\n",
      "Unique Chars => 566\n",
      "Language => EnVi\n",
      "Unique Chars => 50\n",
      "Language => EnPe\n",
      "Unique Chars => 44\n",
      "Language => EnHe\n",
      "Unique Chars => 37\n"
     ]
    }
   ],
   "source": [
    "import os\n",
    "\n",
    "folder_path = \"src-data/news2018/news2018/data/\"\n",
    "target_suffix = \"_strn.v1.txt.trg\"\n",
    "data_dir = os.listdir(folder_path)\n",
    "lang_set = {}\n",
    "\n",
    "for lang_dir in data_dir:\n",
    "    if lang_dir == \".DS_Store\": # stupid MAC\n",
    "        continue\n",
    "    for f in os.listdir(os.path.join(folder_path, lang_dir)):\n",
    "        if f.endswith(target_suffix):\n",
    "            file_path = os.path.join(folder_path, lang_dir, f)\n",
    "            file = open(file_path, 'r').read()\n",
    "            uni_chars = set(file)\n",
    "            print(\"Language =>\", lang_dir)\n",
    "            print(\"Unique Chars =>\", len(uni_chars))\n",
    "            lang_set[lang_dir] = uni_chars"
   ]
  },
  {
   "cell_type": "code",
   "execution_count": 40,
   "metadata": {},
   "outputs": [
    {
     "data": {
      "text/plain": [
       "47"
      ]
     },
     "execution_count": 40,
     "metadata": {},
     "output_type": "execute_result"
    }
   ],
   "source": [
    "len(lang_set['PeEn'])"
   ]
  },
  {
   "cell_type": "code",
   "execution_count": 48,
   "metadata": {},
   "outputs": [
    {
     "data": {
      "text/plain": [
       "{'\\n',\n",
       " ' ',\n",
       " '(',\n",
       " ')',\n",
       " ',',\n",
       " '-',\n",
       " '.',\n",
       " '/',\n",
       " '0',\n",
       " '1',\n",
       " '2',\n",
       " '6',\n",
       " '?',\n",
       " 'I',\n",
       " 'V',\n",
       " 'X',\n",
       " 'ಂ',\n",
       " 'ಅ',\n",
       " 'ಆ',\n",
       " 'ಇ',\n",
       " 'ಈ',\n",
       " 'ಉ',\n",
       " 'ಊ',\n",
       " 'ಋ',\n",
       " 'ಎ',\n",
       " 'ಏ',\n",
       " 'ಐ',\n",
       " 'ಒ',\n",
       " 'ಓ',\n",
       " 'ಔ',\n",
       " 'ಕ',\n",
       " 'ಖ',\n",
       " 'ಗ',\n",
       " 'ಘ',\n",
       " 'ಚ',\n",
       " 'ಛ',\n",
       " 'ಜ',\n",
       " 'ಝ',\n",
       " 'ಞ',\n",
       " 'ಟ',\n",
       " 'ಠ',\n",
       " 'ಡ',\n",
       " 'ಢ',\n",
       " 'ಣ',\n",
       " 'ತ',\n",
       " 'ಥ',\n",
       " 'ದ',\n",
       " 'ಧ',\n",
       " 'ನ',\n",
       " 'ಪ',\n",
       " 'ಫ',\n",
       " 'ಬ',\n",
       " 'ಭ',\n",
       " 'ಮ',\n",
       " 'ಯ',\n",
       " 'ರ',\n",
       " 'ಲ',\n",
       " 'ಳ',\n",
       " 'ವ',\n",
       " 'ಶ',\n",
       " 'ಷ',\n",
       " 'ಸ',\n",
       " 'ಹ',\n",
       " 'ಾ',\n",
       " 'ಿ',\n",
       " 'ೀ',\n",
       " 'ು',\n",
       " 'ೂ',\n",
       " 'ೃ',\n",
       " 'ೆ',\n",
       " 'ೇ',\n",
       " 'ೈ',\n",
       " 'ೊ',\n",
       " 'ೋ',\n",
       " 'ೌ',\n",
       " '್',\n",
       " '\\u200c'}"
      ]
     },
     "execution_count": 48,
     "metadata": {},
     "output_type": "execute_result"
    }
   ],
   "source": [
    "lang_set['EnKa']"
   ]
  },
  {
   "cell_type": "code",
   "execution_count": 46,
   "metadata": {},
   "outputs": [
    {
     "name": "stdout",
     "output_type": "stream",
     "text": [
      "{'Radio', 'Telegram', 'Postcard'}\n"
     ]
    }
   ],
   "source": [
    "x = set([\"Postcard\", \"Radio\", \"Telegram\", \"Radio\"])\n",
    "print(x)"
   ]
  },
  {
   "cell_type": "code",
   "execution_count": null,
   "metadata": {},
   "outputs": [],
   "source": []
  },
  {
   "cell_type": "code",
   "execution_count": null,
   "metadata": {},
   "outputs": [],
   "source": []
  },
  {
   "cell_type": "code",
   "execution_count": null,
   "metadata": {},
   "outputs": [],
   "source": []
  },
  {
   "cell_type": "markdown",
   "metadata": {},
   "source": [
    "### Fun Facts\n",
    "\n",
    "- For Persian, the first 32 letters are known and visible, the rest are not letters but can be used...."
   ]
  },
  {
   "cell_type": "code",
   "execution_count": null,
   "metadata": {},
   "outputs": [],
   "source": []
  }
 ],
 "metadata": {
  "kernelspec": {
   "display_name": "Python 3",
   "language": "python",
   "name": "python3"
  },
  "language_info": {
   "codemirror_mode": {
    "name": "ipython",
    "version": 3
   },
   "file_extension": ".py",
   "mimetype": "text/x-python",
   "name": "python",
   "nbconvert_exporter": "python",
   "pygments_lexer": "ipython3",
   "version": "3.6.4"
  }
 },
 "nbformat": 4,
 "nbformat_minor": 2
}
